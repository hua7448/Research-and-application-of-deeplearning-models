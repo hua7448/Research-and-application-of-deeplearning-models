{
 "metadata": {
  "language_info": {
   "codemirror_mode": {
    "name": "ipython",
    "version": 3
   },
   "file_extension": ".py",
   "mimetype": "text/x-python",
   "name": "python",
   "nbconvert_exporter": "python",
   "pygments_lexer": "ipython3",
   "version": "3.7.10-final"
  },
  "orig_nbformat": 2,
  "kernelspec": {
   "name": "python3",
   "display_name": "Python 3.7.10 64-bit ('paddle18': conda)",
   "metadata": {
    "interpreter": {
     "hash": "21213054ac30dd40fe097b0d5ff9344e85a126c6db81ce9ff972e7def1e80ee1"
    }
   }
  }
 },
 "nbformat": 4,
 "nbformat_minor": 2,
 "cells": [
  {
   "cell_type": "code",
   "execution_count": 6,
   "metadata": {},
   "outputs": [
    {
     "output_type": "stream",
     "name": "stderr",
     "text": [
      "d:\\Users\\David\\AppData\\Local\\Continuum\\anaconda3\\envs\\paddle18\\lib\\site-packages\\ipykernel\\ipkernel.py:287: DeprecationWarning: `should_run_async` will not call `transform_cell` automatically in the future. Please pass the result to `transformed_cell` argument and any exception that happen during thetransform in `preprocessing_exc_tuple` in IPython 7.17 and above.\n",
      "  and should_run_async(code)\n",
      "\u001b[32m[2021-03-17 20:32:27,583] [    INFO] - Installing senta_lstm module\u001b[0m\n",
      "\u001b[32m[2021-03-17 20:32:27,600] [    INFO] - Module senta_lstm already installed in C:\\Users\\David\\.paddlehub\\modules\\senta_lstm\u001b[0m\n",
      "\u001b[32m[2021-03-17 20:32:29,426] [    INFO] - Installing lac module\u001b[0m\n",
      "\u001b[32m[2021-03-17 20:32:29,443] [    INFO] - Module lac already installed in C:\\Users\\David\\.paddlehub\\modules\\lac\u001b[0m\n"
     ]
    }
   ],
   "source": [
    "import paddlehub as hub\n",
    "\n",
    "senta = hub.Module(name=\"senta_lstm\")\n",
    "\n",
    "\n",
    "test_text = [\"我觉得一般般咯\", \"这部电影真的很差劲\", \"你不要再这样子了好吗\", \"谢谢你呀\"]\n",
    "results = senta.sentiment_classify(texts=test_text)\n",
    "\n",
    "\n"
   ]
  },
  {
   "cell_type": "code",
   "execution_count": 7,
   "metadata": {},
   "outputs": [
    {
     "output_type": "stream",
     "name": "stdout",
     "text": [
      "我觉得一般般咯\n0\nnegative\n0.1549\n0.8451\n这部电影真的很差劲\n0\nnegative\n0.0187\n0.9813\n你不要再这样子了好吗\n0\nnegative\n0.0075\n0.9925\n谢谢你呀\n1\npositive\n0.9855\n0.0145\n"
     ]
    }
   ],
   "source": [
    "for result in results:\n",
    "    print(result['text'])\n",
    "    print(result['sentiment_label'])\n",
    "    print(result['sentiment_key'])\n",
    "    print(result['positive_probs'])\n",
    "    print(result['negative_probs'])\n"
   ]
  },
  {
   "cell_type": "code",
   "execution_count": 8,
   "metadata": {},
   "outputs": [
    {
     "output_type": "execute_result",
     "data": {
      "text/plain": [
       "[{'text': '我觉得一般般咯',\n",
       "  'sentiment_label': 0,\n",
       "  'sentiment_key': 'negative',\n",
       "  'positive_probs': 0.1549,\n",
       "  'negative_probs': 0.8451},\n",
       " {'text': '这部电影真的很差劲',\n",
       "  'sentiment_label': 0,\n",
       "  'sentiment_key': 'negative',\n",
       "  'positive_probs': 0.0187,\n",
       "  'negative_probs': 0.9813},\n",
       " {'text': '你不要再这样子了好吗',\n",
       "  'sentiment_label': 0,\n",
       "  'sentiment_key': 'negative',\n",
       "  'positive_probs': 0.0075,\n",
       "  'negative_probs': 0.9925},\n",
       " {'text': '谢谢你呀',\n",
       "  'sentiment_label': 1,\n",
       "  'sentiment_key': 'positive',\n",
       "  'positive_probs': 0.9855,\n",
       "  'negative_probs': 0.0145}]"
      ]
     },
     "metadata": {},
     "execution_count": 8
    }
   ],
   "source": [
    "results"
   ]
  }
 ]
}